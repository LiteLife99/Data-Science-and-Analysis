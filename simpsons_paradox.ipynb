{
 "cells": [
  {
   "cell_type": "markdown",
   "metadata": {
    "collapsed": true
   },
   "source": [
    "# Simpson's Paradox\n",
    "Using `admission_data.csv` for this."
   ]
  },
  {
   "cell_type": "markdown",
   "metadata": {},
   "source": [
    "Simpsons Paradox: UC Brooklyn wanted to find out whether there is a gender bias in their admissions procedure. They ended up concluding that when looked at individually for degrees, it seemed like girls were favoured but in fact, combined, boys were favoured.\n",
    "\n",
    "<img src=\"simpson.png\"/>\n",
    "\n",
    "As you can see, individually for major A and B, acceptance rate of Boys is 50% and 10% resp, and girls is 80% and 20% respectively. It might seem that girls are being favoured by this data. But when comined, major A+B, net acceptance rate of Boys is 46% and girls is 26%, proving that boys were being favoured.\n",
    "\n",
    "In this case study, we are gonna be looking for such insights in out data."
   ]
  },
  {
   "cell_type": "code",
   "execution_count": 2,
   "metadata": {},
   "outputs": [
    {
     "data": {
      "text/html": [
       "<div>\n",
       "<style scoped>\n",
       "    .dataframe tbody tr th:only-of-type {\n",
       "        vertical-align: middle;\n",
       "    }\n",
       "\n",
       "    .dataframe tbody tr th {\n",
       "        vertical-align: top;\n",
       "    }\n",
       "\n",
       "    .dataframe thead th {\n",
       "        text-align: right;\n",
       "    }\n",
       "</style>\n",
       "<table border=\"1\" class=\"dataframe\">\n",
       "  <thead>\n",
       "    <tr style=\"text-align: right;\">\n",
       "      <th></th>\n",
       "      <th>student_id</th>\n",
       "      <th>gender</th>\n",
       "      <th>major</th>\n",
       "      <th>admitted</th>\n",
       "    </tr>\n",
       "  </thead>\n",
       "  <tbody>\n",
       "    <tr>\n",
       "      <th>0</th>\n",
       "      <td>35377</td>\n",
       "      <td>female</td>\n",
       "      <td>Chemistry</td>\n",
       "      <td>False</td>\n",
       "    </tr>\n",
       "    <tr>\n",
       "      <th>1</th>\n",
       "      <td>56105</td>\n",
       "      <td>male</td>\n",
       "      <td>Physics</td>\n",
       "      <td>True</td>\n",
       "    </tr>\n",
       "    <tr>\n",
       "      <th>2</th>\n",
       "      <td>31441</td>\n",
       "      <td>female</td>\n",
       "      <td>Chemistry</td>\n",
       "      <td>False</td>\n",
       "    </tr>\n",
       "    <tr>\n",
       "      <th>3</th>\n",
       "      <td>51765</td>\n",
       "      <td>male</td>\n",
       "      <td>Physics</td>\n",
       "      <td>True</td>\n",
       "    </tr>\n",
       "    <tr>\n",
       "      <th>4</th>\n",
       "      <td>53714</td>\n",
       "      <td>female</td>\n",
       "      <td>Physics</td>\n",
       "      <td>True</td>\n",
       "    </tr>\n",
       "  </tbody>\n",
       "</table>\n",
       "</div>"
      ],
      "text/plain": [
       "   student_id  gender      major  admitted\n",
       "0       35377  female  Chemistry     False\n",
       "1       56105    male    Physics      True\n",
       "2       31441  female  Chemistry     False\n",
       "3       51765    male    Physics      True\n",
       "4       53714  female    Physics      True"
      ]
     },
     "execution_count": 2,
     "metadata": {},
     "output_type": "execute_result"
    }
   ],
   "source": [
    "# Load and view first few lines of dataset\n",
    "import pandas as pd\n",
    "df = pd.read_csv('admission_data.csv')\n",
    "\n",
    "df.head()"
   ]
  },
  {
   "cell_type": "markdown",
   "metadata": {},
   "source": [
    "### Proportion and admission rate for each gender"
   ]
  },
  {
   "cell_type": "code",
   "execution_count": 3,
   "metadata": {},
   "outputs": [
    {
     "name": "stdout",
     "output_type": "stream",
     "text": [
      "500\n",
      "257\n",
      "51.4\n"
     ]
    },
    {
     "data": {
      "text/html": [
       "<div>\n",
       "<style scoped>\n",
       "    .dataframe tbody tr th:only-of-type {\n",
       "        vertical-align: middle;\n",
       "    }\n",
       "\n",
       "    .dataframe tbody tr th {\n",
       "        vertical-align: top;\n",
       "    }\n",
       "\n",
       "    .dataframe thead th {\n",
       "        text-align: right;\n",
       "    }\n",
       "</style>\n",
       "<table border=\"1\" class=\"dataframe\">\n",
       "  <thead>\n",
       "    <tr style=\"text-align: right;\">\n",
       "      <th></th>\n",
       "      <th>student_id</th>\n",
       "      <th>gender</th>\n",
       "      <th>major</th>\n",
       "      <th>admitted</th>\n",
       "    </tr>\n",
       "  </thead>\n",
       "  <tbody>\n",
       "    <tr>\n",
       "      <th>0</th>\n",
       "      <td>35377</td>\n",
       "      <td>female</td>\n",
       "      <td>Chemistry</td>\n",
       "      <td>False</td>\n",
       "    </tr>\n",
       "    <tr>\n",
       "      <th>2</th>\n",
       "      <td>31441</td>\n",
       "      <td>female</td>\n",
       "      <td>Chemistry</td>\n",
       "      <td>False</td>\n",
       "    </tr>\n",
       "    <tr>\n",
       "      <th>4</th>\n",
       "      <td>53714</td>\n",
       "      <td>female</td>\n",
       "      <td>Physics</td>\n",
       "      <td>True</td>\n",
       "    </tr>\n",
       "    <tr>\n",
       "      <th>5</th>\n",
       "      <td>50693</td>\n",
       "      <td>female</td>\n",
       "      <td>Chemistry</td>\n",
       "      <td>False</td>\n",
       "    </tr>\n",
       "    <tr>\n",
       "      <th>7</th>\n",
       "      <td>27648</td>\n",
       "      <td>female</td>\n",
       "      <td>Chemistry</td>\n",
       "      <td>True</td>\n",
       "    </tr>\n",
       "  </tbody>\n",
       "</table>\n",
       "</div>"
      ],
      "text/plain": [
       "   student_id  gender      major  admitted\n",
       "0       35377  female  Chemistry     False\n",
       "2       31441  female  Chemistry     False\n",
       "4       53714  female    Physics      True\n",
       "5       50693  female  Chemistry     False\n",
       "7       27648  female  Chemistry      True"
      ]
     },
     "execution_count": 3,
     "metadata": {},
     "output_type": "execute_result"
    }
   ],
   "source": [
    "# Proportion of students that are female\n",
    "num_total = df.shape[0]\n",
    "print(num_total)\n",
    "female = df.query('gender == \"female\"')\n",
    "num_female = female.shape[0]\n",
    "print(num_female)\n",
    "percent_female = (num_female/num_total)*100\n",
    "print(percent_female)\n",
    "female.head()"
   ]
  },
  {
   "cell_type": "code",
   "execution_count": 4,
   "metadata": {},
   "outputs": [
    {
     "name": "stdout",
     "output_type": "stream",
     "text": [
      "243\n",
      "48.6\n"
     ]
    }
   ],
   "source": [
    "# Proportion of students that are male\n",
    "male = df.query('gender == \"male\"')\n",
    "num_male = male.shape[0]\n",
    "print(num_male)\n",
    "percent_male = 100 - percent_female\n",
    "print(percent_male)"
   ]
  },
  {
   "cell_type": "code",
   "execution_count": 5,
   "metadata": {},
   "outputs": [
    {
     "name": "stdout",
     "output_type": "stream",
     "text": [
      "74\n",
      "28.793774319066145\n"
     ]
    }
   ],
   "source": [
    "# Admission rate for females\n",
    "admitted_female = female.query('admitted == True')\n",
    "admitted_female.head()\n",
    "#female.dtypes\n",
    "num_admitted_female = admitted_female.shape[0]\n",
    "print(num_admitted_female)\n",
    "percent_admitted_female = (num_admitted_female/num_female)*100\n",
    "print(percent_admitted_female)"
   ]
  },
  {
   "cell_type": "code",
   "execution_count": 6,
   "metadata": {},
   "outputs": [
    {
     "name": "stdout",
     "output_type": "stream",
     "text": [
      "118\n",
      "48.559670781893004\n"
     ]
    }
   ],
   "source": [
    "# Admission rate for males\n",
    "admitted_male = male.query('admitted == True')\n",
    "admitted_male.head()\n",
    "num_admitted_male = admitted_male.shape[0]\n",
    "print(num_admitted_male)\n",
    "percent_admitted_male = (num_admitted_male/num_male)*100\n",
    "print(percent_admitted_male)"
   ]
  },
  {
   "cell_type": "markdown",
   "metadata": {},
   "source": [
    "### Proportion and admission rate for physics majors of each gender"
   ]
  },
  {
   "cell_type": "code",
   "execution_count": 7,
   "metadata": {},
   "outputs": [
    {
     "name": "stdout",
     "output_type": "stream",
     "text": [
      "31\n",
      "12.062256809338521\n"
     ]
    }
   ],
   "source": [
    "# What proportion of female students are majoring in physics?\n",
    "physics_female = female.query('major == \"Physics\"')\n",
    "num_physics_female = physics_female.shape[0]\n",
    "print(num_physics_female)\n",
    "percent_physics_female = (num_physics_female/num_female)*100\n",
    "print(percent_physics_female)"
   ]
  },
  {
   "cell_type": "code",
   "execution_count": 8,
   "metadata": {},
   "outputs": [
    {
     "name": "stdout",
     "output_type": "stream",
     "text": [
      "225\n",
      "92.5925925925926\n"
     ]
    }
   ],
   "source": [
    "# What proportion of male students are majoring in physics?\n",
    "physics_male = male.query('major == \"Physics\"')\n",
    "num_physics_male = physics_male.shape[0]\n",
    "print(num_physics_male)\n",
    "percent_physics_male = (num_physics_male/num_male)*100\n",
    "print(percent_physics_male)"
   ]
  },
  {
   "cell_type": "code",
   "execution_count": 9,
   "metadata": {},
   "outputs": [
    {
     "name": "stdout",
     "output_type": "stream",
     "text": [
      "74.19354838709677\n"
     ]
    }
   ],
   "source": [
    "# Admission rate for female physics majors\n",
    "admitted_physics_female = physics_female.query('admitted == True')\n",
    "num_admitted_phy_female = admitted_physics_female.shape[0]\n",
    "num_admitted_phy_female\n",
    "percent_adm_phy_fem = (num_admitted_phy_female/num_physics_female)*100\n",
    "print(percent_adm_phy_fem)"
   ]
  },
  {
   "cell_type": "code",
   "execution_count": 10,
   "metadata": {},
   "outputs": [
    {
     "name": "stdout",
     "output_type": "stream",
     "text": [
      "51.55555555555556\n"
     ]
    }
   ],
   "source": [
    "# Admission rate for male physics majors\n",
    "admitted_physics_male = physics_male.query('admitted == True')\n",
    "num_admitted_phy_male = admitted_physics_male.shape[0]\n",
    "num_admitted_phy_male\n",
    "percent_adm_phy_male = (num_admitted_phy_male/num_physics_male)*100\n",
    "print(percent_adm_phy_male)"
   ]
  },
  {
   "cell_type": "markdown",
   "metadata": {},
   "source": [
    "### Proportion and admission rate for chemistry majors of each gender"
   ]
  },
  {
   "cell_type": "code",
   "execution_count": 11,
   "metadata": {},
   "outputs": [
    {
     "name": "stdout",
     "output_type": "stream",
     "text": [
      "226\n",
      "87.93774319066148\n"
     ]
    }
   ],
   "source": [
    "# What proportion of female students are majoring in chemistry?\n",
    "chem_female = female.query('major == \"Chemistry\"')\n",
    "num_chem_female = chem_female.shape[0]\n",
    "print(num_chem_female)\n",
    "percent_chem_female = (num_chem_female/num_female)*100\n",
    "print(percent_chem_female)"
   ]
  },
  {
   "cell_type": "code",
   "execution_count": 12,
   "metadata": {},
   "outputs": [
    {
     "name": "stdout",
     "output_type": "stream",
     "text": [
      "18\n",
      "7.4074074074074066\n"
     ]
    }
   ],
   "source": [
    "# What proportion of male students are majoring in chemistry?\n",
    "chem_male = male.query('major == \"Chemistry\"')\n",
    "num_chem_male = chem_male.shape[0]\n",
    "print(num_chem_male)\n",
    "percent_chem_male = (num_chem_male/num_male)*100\n",
    "print(percent_chem_male)"
   ]
  },
  {
   "cell_type": "code",
   "execution_count": 13,
   "metadata": {},
   "outputs": [
    {
     "name": "stdout",
     "output_type": "stream",
     "text": [
      "22.566371681415927\n"
     ]
    }
   ],
   "source": [
    "# Admission rate for female chemistry majors\n",
    "admitted_chem_female = chem_female.query('admitted == True')\n",
    "num_admitted_chem_female = admitted_chem_female.shape[0]\n",
    "num_admitted_chem_female\n",
    "percent_adm_chem_fem = (num_admitted_chem_female/num_chem_female)*100\n",
    "print(percent_adm_chem_fem)"
   ]
  },
  {
   "cell_type": "code",
   "execution_count": 14,
   "metadata": {},
   "outputs": [
    {
     "name": "stdout",
     "output_type": "stream",
     "text": [
      "11.11111111111111\n"
     ]
    }
   ],
   "source": [
    "# Admission rate for male chemistry majors\n",
    "admitted_chem_male = chem_male.query('admitted == True')\n",
    "num_admitted_chem_male = admitted_chem_male.shape[0]\n",
    "num_admitted_chem_male\n",
    "percent_adm_chem_male = (num_admitted_chem_male/num_chem_male)*100\n",
    "print(percent_adm_chem_male)"
   ]
  },
  {
   "cell_type": "markdown",
   "metadata": {},
   "source": [
    "### Admission rate for each major"
   ]
  },
  {
   "cell_type": "code",
   "execution_count": 18,
   "metadata": {},
   "outputs": [
    {
     "name": "stdout",
     "output_type": "stream",
     "text": [
      "54.296875\n"
     ]
    }
   ],
   "source": [
    "# Admission rate for physics majors\n",
    "physics = df.query('major == \"Physics\"')\n",
    "total_physics = physics.shape[0]\n",
    "admitted_physics = physics.query('admitted == True').shape[0]\n",
    "rate_physics = (admitted_physics / total_physics)*100\n",
    "print(rate_physics)"
   ]
  },
  {
   "cell_type": "code",
   "execution_count": 19,
   "metadata": {},
   "outputs": [
    {
     "name": "stdout",
     "output_type": "stream",
     "text": [
      "21.721311475409834\n"
     ]
    }
   ],
   "source": [
    "# Admission rate for chemistry majors\n",
    "chemistry = df.query('major == \"Chemistry\"')\n",
    "total_chem = chemistry.shape[0]\n",
    "admitted_chem = chemistry.query('admitted == True').shape[0]\n",
    "rate_chem = (admitted_chem / total_chem)*100\n",
    "print(rate_chem)"
   ]
  }
 ],
 "metadata": {
  "kernelspec": {
   "display_name": "Python 3",
   "language": "python",
   "name": "python3"
  },
  "language_info": {
   "codemirror_mode": {
    "name": "ipython",
    "version": 3
   },
   "file_extension": ".py",
   "mimetype": "text/x-python",
   "name": "python",
   "nbconvert_exporter": "python",
   "pygments_lexer": "ipython3",
   "version": "3.7.4"
  }
 },
 "nbformat": 4,
 "nbformat_minor": 2
}
